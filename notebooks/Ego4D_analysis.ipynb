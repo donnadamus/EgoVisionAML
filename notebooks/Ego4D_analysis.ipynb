{
 "cells": [
  {
   "cell_type": "markdown",
   "metadata": {},
   "source": [
    "# Comprehensive Analysis of Ego4D NLQ Annotations"
   ]
  },
  {
   "cell_type": "markdown",
   "metadata": {},
   "source": [
    "## 1. Setup Environment"
   ]
  },
  {
   "cell_type": "markdown",
   "metadata": {},
   "source": [
    "### Import Required Libraries\n",
    "Import libraries for data manipulation, visualization, and numerical operations"
   ]
  },
  {
   "cell_type": "code",
   "execution_count": null,
   "metadata": {
    "vscode": {
     "languageId": "plaintext"
    }
   },
   "outputs": [],
   "source": [
    "# Standard libraries\n",
    "import os\n",
    "import json\n",
    "import pandas as pd\n",
    "import numpy as np\n",
    "\n",
    "# Visualization libraries\n",
    "import matplotlib.pyplot as plt\n",
    "import seaborn as sns\n",
    "\n",
    "# Notebook settings\n",
    "plt.style.use('ggplot')\n",
    "sns.set(style=\"whitegrid\", palette=\"deep\")"
   ]
  },
  {
   "cell_type": "markdown",
   "metadata": {},
   "source": [
    "### Define File Paths\n",
    "Set paths to annotation files and metadata."
   ]
  },
  {
   "cell_type": "code",
   "execution_count": null,
   "metadata": {
    "vscode": {
     "languageId": "plaintext"
    }
   },
   "outputs": [],
   "source": [
    "# Define paths to data directory and files\n",
    "data_dir = \"../data/ego4d_data\"\n",
    "annotations_file = os.path.join(data_dir, \"annotations\", \"nlq_train.json\")\n",
    "metadata_file = os.path.join(data_dir, \"ego4d.json\")\n",
    "\n",
    "# Confirm file existence\n",
    "assert os.path.exists(annotations_file), \"NLQ annotations file not found.\"\n",
    "assert os.path.exists(metadata_file), \"Metadata file not found.\"\n",
    "\n",
    "print(\"All files are accessible. Ready to load data.\")"
   ]
  }
 ],
 "metadata": {
  "language_info": {
   "name": "python"
  }
 },
 "nbformat": 4,
 "nbformat_minor": 2
}
