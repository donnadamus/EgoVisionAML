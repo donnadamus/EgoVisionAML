{
  "cells": [
    {
      "cell_type": "markdown",
      "metadata": {
        "id": "KErXVXAs_K9V"
      },
      "source": [
        "# Evaluation metrics\n",
        "\n"
      ]
    },
    {
      "cell_type": "markdown",
      "metadata": {
        "id": "DgP_pd_joqtp"
      },
      "source": [
        "## References:\n",
        "https://github.com/huggingface/evaluate\n",
        "\n",
        "https://github.com/huggingface/evaluate/tree/main/metrics/bleu\n",
        "\n",
        "https://github.com/huggingface/evaluate/tree/main/metrics/rouge\n",
        "\n",
        "https://github.com/huggingface/evaluate/tree/main/metrics/meteor\n",
        "\n",
        "https://www.nltk.org/index.html\n",
        "\n",
        "\n",
        "### In this notebook:\n",
        "Predictions are extracted from .json files in the following drive:\n",
        "\n",
        "https://drive.google.com/drive/folders/1XVaIzVrzgTUyn2L8Au24zISSxWVGzO8z?usp=drive_link\n",
        "\n",
        "Ground truths are taken from:\n",
        "\n",
        "https://drive.google.com/drive/folders/1jo8cml09c-7V6QAaGPIYwvK1yWiFQzM0?usp=drive_link\n",
        "\n",
        "We are taking into account our manually annotated references in order to compute the following metrics:\n",
        "- BLEU\n",
        "- ROUGE\n",
        "- METEOR"
      ]
    },
    {
      "cell_type": "markdown",
      "metadata": {
        "id": "HSNI9ZZHeyF-"
      },
      "source": [
        "# Packages and Imports"
      ]
    },
    {
      "cell_type": "code",
      "execution_count": null,
      "metadata": {
        "colab": {
          "base_uri": "https://localhost:8080/"
        },
        "collapsed": true,
        "id": "DLpuBxTw-6dt",
        "outputId": "e8487e22-4aaa-438e-eea2-8591264e6623"
      },
      "outputs": [],
      "source": [
        "# Install required packages\n",
        "!pip install evaluate\n",
        "!pip install nltk     # It should be already installed version 3.9.1 which is ok\n",
        "#!nltk --version     -- better to have version >= 3.9.0 to let meteor work properly --check meteor implementation\n",
        "!pip install rouge_score"
      ]
    },
    {
      "cell_type": "code",
      "execution_count": null,
      "metadata": {
        "colab": {
          "base_uri": "https://localhost:8080/"
        },
        "id": "_G3SOWTHJb3s",
        "outputId": "965c3020-bbd4-4eb7-df01-75fe1654a687"
      },
      "outputs": [],
      "source": [
        "# Install the tokenizer\n",
        "import nltk\n",
        "nltk.download('punkt_tab')  # needed for BLEU\n",
        "from nltk.tokenize import word_tokenize\n",
        "\n",
        "import evaluate"
      ]
    },
    {
      "cell_type": "markdown",
      "metadata": {
        "id": "UW97LCY0e6If"
      },
      "source": [
        "# Data preparation"
      ]
    },
    {
      "cell_type": "code",
      "execution_count": 22,
      "metadata": {
        "colab": {
          "base_uri": "https://localhost:8080/"
        },
        "id": "E0ErvbF4ARsn",
        "outputId": "f9b08e4d-0739-4561-9fd9-a9d5d70276f8"
      },
      "outputs": [
        {
          "name": "stdout",
          "output_type": "stream",
          "text": [
            "[[['I saw the socket on the wall in the corridor next to the heater'], ['You saw the socket on the wall in the corridor next to the heater'], ['on the wall in the corridor next to the heater']], [['I chopped broccoli'], ['You chopped broccoli'], ['broccoli']], [['I saw the carton on the second shelf next to the plastic parts organizer'], ['You saw the carton on the second shelf next to the plastic parts organizer'], ['on the second shelf next to the plastic parts organizer']], [['I put the spice in the pot'], ['You put the spice in the pot'], ['spice']], [['I put eight green peppers in the minced meat'], ['You put eight green peppers in the minced meat'], ['eight green peppers']], [['I opened six drawers'], ['You opened six drawers'], ['six drawers']], [['I first used an impact wrench on the machine'], ['You first used an impact wrench on the machine'], ['impact wrench']], [['The genre book was in the upper second shelf'], ['The genre book was in the upper second shelf'], ['upper second shelf']], [['I first hit the tent stick into the ground'], ['You first hit the tent stick into the ground'], ['tent stick']], [['I put oil in the dough in the mixer'], ['You put oil in the dough in the mixer'], ['oil']], [['I spread six slices of bread with peanut butter'], ['You spread six slices of bread with peanut butter'], ['six slices']], [['The Sofa is beige'], ['The Sofa is beige'], ['beige']], [['Yes, I wiped the kitchen counter'], ['Yes, you wiped the kitchen counter'], ['yes']], [['No, I closed the car door'], ['No, you closed the car door'], ['no']], [['I washed the white chopping board'], ['You washed the white chopping board'], ['white chopping board']], [['The plate was in the lower second shelf of the cupboard'], ['The plate was in the lower second shelf of the cupboard'], ['lower second shelf of the cupboard']], [['The egg was in the fridge'], ['The egg was in the fridge'], ['in the fridge']], [['I took a coke'], ['You took a coke'], ['coke']], [['I talked to a man'], ['You talked to a man'], ['a man']], [['I took two plates'], ['You took two plates'], ['two plates']], [['I saw it on a shelf next to the window'], ['You saw it on a shelf next to the window'], ['on a shelf next to the window']], [['I washed socks'], ['You washed socks'], ['socks']], [['The transparent keg was on the shelf'], ['The transparent keg was on the shelf'], ['on the shelf']], [['I rolled 2 doughs'], ['You rolled 2 doughs'], ['2 doughs']], [['The round brush was on the floor'], ['The round brush was on the floor'], ['on the floor']], [['I arranged some kitchen tools in the dishwasher racks'], ['You arranged some kitchen tools in the dishwasher racks'], ['kitchen tools in dishwasher racks']], [['The phone was in my left pocket'], ['The phone was in your left pocket'], ['in left pocket']], [['I used a paint scraper with a black handle and a flat wide metal blade'], ['You used a paint scraper with a black handle and a flat wide metal blade'], ['paint scraper with black handle']], [['I smeared egg on the dough'], ['You smeared egg on the dough'], ['egg']], [['I wiped a square slab of wood'], ['You wiped a square slab of wood'], ['square slab of wood']], [['The plier was in the drawer of the work bench'], ['The plier was in the drawer of the work bench'], ['in the drawer of the work bench']], [['I sharpened the pencils with a box cutter'], ['You sharpened the pencils with a box cutter'], ['box cutter']], [['I unscrewed some bolts'], ['You unscrewed some bolts'], ['bolts']], [['I poured flour and water in the dough mixer'], ['You poured flour and water in the dough mixer'], ['flour and water']], [['The glass was on the table'], ['The glass was on the table'], ['on the table']], [['Yes, I left the fridge open'], ['Yes, you left the fridge open'], ['yes']], [['I put baking trays in the oven'], ['You put baking trays in the oven'], ['baking trays']], [['No, I closed the microwave'], ['No, you closed the microwave'], ['no']], [['I dropped the stainless in a drawer under the cooktop'], ['You dropped the stainless in a drawer under the cooktop'], ['in a drawer under the cooktop']], [['The phone is in my hands'], ['The phone is in your hands'], ['in hands']], [['I cleaned my hands with the blue checkered napkin'], ['You cleaned your hands with the blue checkered napkin'], ['blue checkered napkin']], [['The machine was on the ground in front of the door'], ['The machine was on the ground in front of the door'], ['on the ground in front of the door']], [['I lighted pieces of paper'], ['You lighted pieces of paper'], ['pieces of paper']], [['Yes, I sliced the okro'], ['Yes, you sliced the okro'], ['yes']], [['The phone is on the top shelf of the shelf unit'], ['The phone is on the top shelf of the shelf unit'], ['on the top shelf']], [['I poured cooking oil in the frying pan'], ['You poured cooking oil in the frying pan'], ['cooking oil']], [['I put the ham on the second shelf in the fridge'], ['You put the ham on the second shelf in the fridge'], ['on the second shelf in the fridge']], [['I cut three pieces of tomato'], ['You cut three pieces of tomato'], ['three pieces']], [['I picked two nuts from the black plastic material'], ['You picked two nuts from the black plastic material'], ['two nuts']], [['The plier was in the drawer of the work bench'], ['The plier was in the drawer of the work bench'], ['in the drawer of the work bench']]]\n"
          ]
        }
      ],
      "source": [
        "#Leggiamo il file e lo processiamo riga per riga\n",
        "with open('ground_truth_3_versions.txt', 'r') as file:\n",
        "    lines = file.readlines()\n",
        "\n",
        "# Creiamo la struttura references\n",
        "references = []\n",
        "\n",
        "for line in lines:\n",
        "    # Dividiamo la riga usando il punto e virgola come separatore\n",
        "    # strip() rimuove eventuali spazi bianchi all'inizio e alla fine\n",
        "    versions = [ref.strip() for ref in line.split(';')]\n",
        "\n",
        "    # Per ogni riga, creiamo una lista con le tre versioni\n",
        "    # Ogni versione viene messa in una lista singola, come nell'esempio\n",
        "    reference_group = [[version] for version in versions]\n",
        "\n",
        "    # Aggiungiamo il gruppo di reference alla lista principale\n",
        "    references.append(reference_group)\n",
        "\n",
        "# A questo punto, references avrà una struttura come:\n",
        "# [\n",
        "#     [[\"versione1_riga1\"], [\"versione2_riga1\"], [\"versione3_riga1\"]],\n",
        "#     [[\"versione1_riga2\"], [\"versione2_riga2\"], [\"versione3_riga2\"]],\n",
        "#     ...\n",
        "# ]\n",
        "\n",
        "print(references)"
      ]
    },
    {
      "cell_type": "code",
      "execution_count": 23,
      "metadata": {
        "colab": {
          "base_uri": "https://localhost:8080/"
        },
        "id": "Ng0oA9KiadMZ",
        "outputId": "114a5fae-3d3b-4c39-d702-8de3726ab596"
      },
      "outputs": [
        {
          "name": "stdout",
          "output_type": "stream",
          "text": [
            "['I saw the socket on the wall in the corridor next to the heater', 'I chopped broccoli', 'I saw the carton on the second shelf next to the plastic parts organizer', 'I put the spice in the pot', 'I put eight green peppers in the minced meat', 'I opened six drawers', 'I first used an impact wrench on the machine', 'The genre book was in the upper second shelf', 'I first hit the tent stick into the ground', 'I put oil in the dough in the mixer', 'I spread six slices of bread with peanut butter', 'The Sofa is beige', 'Yes, I wiped the kitchen counter', 'No, I closed the car door', 'I washed the white chopping board', 'The plate was in the lower second shelf of the cupboard', 'The egg was in the fridge', 'I took a coke', 'I talked to a man', 'I took two plates', 'I saw it on a shelf next to the window', 'I washed socks', 'The transparent keg was on the shelf', 'I rolled 2 doughs', 'The round brush was on the floor', 'I arranged some kitchen tools in the dishwasher racks', 'The phone was in my left pocket', 'I used a paint scraper with a black handle and a flat wide metal blade', 'I smeared egg on the dough', 'I wiped a square slab of wood', 'The plier was in the drawer of the work bench', 'I sharpened the pencils with a box cutter', 'I unscrewed some bolts', 'I poured flour and water in the dough mixer', 'The glass was on the table', 'Yes, I left the fridge open', 'I put baking trays in the oven', 'No, I closed the microwave', 'I dropped the stainless in a drawer under the cooktop', 'The phone is in my hands', 'I cleaned my hands with the blue checkered napkin', 'The machine was on the ground in front of the door', 'I lighted pieces of paper', 'Yes, I sliced the okro', 'The phone is on the top shelf of the shelf unit', 'I poured cooking oil in the frying pan', 'I put the ham on the second shelf in the fridge', 'I cut three pieces of tomato', 'I picked two nuts from the black plastic material', 'The plier was in the drawer of the work bench']\n",
            "50\n",
            "['You saw the socket on the wall in the corridor next to the heater', 'You chopped broccoli', 'You saw the carton on the second shelf next to the plastic parts organizer', 'You put the spice in the pot', 'You put eight green peppers in the minced meat', 'You opened six drawers', 'You first used an impact wrench on the machine', 'The genre book was in the upper second shelf', 'You first hit the tent stick into the ground', 'You put oil in the dough in the mixer', 'You spread six slices of bread with peanut butter', 'The Sofa is beige', 'Yes, you wiped the kitchen counter', 'No, you closed the car door', 'You washed the white chopping board', 'The plate was in the lower second shelf of the cupboard', 'The egg was in the fridge', 'You took a coke', 'You talked to a man', 'You took two plates', 'You saw it on a shelf next to the window', 'You washed socks', 'The transparent keg was on the shelf', 'You rolled 2 doughs', 'The round brush was on the floor', 'You arranged some kitchen tools in the dishwasher racks', 'The phone was in your left pocket', 'You used a paint scraper with a black handle and a flat wide metal blade', 'You smeared egg on the dough', 'You wiped a square slab of wood', 'The plier was in the drawer of the work bench', 'You sharpened the pencils with a box cutter', 'You unscrewed some bolts', 'You poured flour and water in the dough mixer', 'The glass was on the table', 'Yes, you left the fridge open', 'You put baking trays in the oven', 'No, you closed the microwave', 'You dropped the stainless in a drawer under the cooktop', 'The phone is in your hands', 'You cleaned your hands with the blue checkered napkin', 'The machine was on the ground in front of the door', 'You lighted pieces of paper', 'Yes, you sliced the okro', 'The phone is on the top shelf of the shelf unit', 'You poured cooking oil in the frying pan', 'You put the ham on the second shelf in the fridge', 'You cut three pieces of tomato', 'You picked two nuts from the black plastic material', 'The plier was in the drawer of the work bench']\n",
            "50\n",
            "['on the wall in the corridor next to the heater', 'broccoli', 'on the second shelf next to the plastic parts organizer', 'spice', 'eight green peppers', 'six drawers', 'impact wrench', 'upper second shelf', 'tent stick', 'oil', 'six slices', 'beige', 'yes', 'no', 'white chopping board', 'lower second shelf of the cupboard', 'in the fridge', 'coke', 'a man', 'two plates', 'on a shelf next to the window', 'socks', 'on the shelf', '2 doughs', 'on the floor', 'kitchen tools in dishwasher racks', 'in left pocket', 'paint scraper with black handle', 'egg', 'square slab of wood', 'in the drawer of the work bench', 'box cutter', 'bolts', 'flour and water', 'on the table', 'yes', 'baking trays', 'no', 'in a drawer under the cooktop', 'in hands', 'blue checkered napkin', 'on the ground in front of the door', 'pieces of paper', 'yes', 'on the top shelf', 'cooking oil', 'on the second shelf in the fridge', 'three pieces', 'two nuts', 'in the drawer of the work bench']\n",
            "50\n"
          ]
        }
      ],
      "source": [
        "# Crea una lista con tutte le prime versioni\n",
        "first_version = [group[0][0] for group in references]\n",
        "print(first_version)\n",
        "print(len(first_version))\n",
        "\n",
        "# Crea una lista con tutte le seconde versioni\n",
        "second_version = [group[1][0] for group in references]\n",
        "print(second_version)\n",
        "print(len(second_version))\n",
        "\n",
        "# Crea una lista con tutte le terze versioni\n",
        "third_version = [group[2][0] for group in references]\n",
        "print(third_version)\n",
        "print(len(third_version))"
      ]
    },
    {
      "cell_type": "code",
      "execution_count": 24,
      "metadata": {
        "colab": {
          "base_uri": "https://localhost:8080/"
        },
        "id": "wPgo3sNIDd-G",
        "outputId": "447a2a1d-4919-465a-a2ca-caeaf4b31e0e"
      },
      "outputs": [
        {
          "name": "stdout",
          "output_type": "stream",
          "text": [
            "Numero totale di gruppi di reference: 50\n",
            "\n",
            "Numero di reference per ogni gruppo:\n",
            "[3, 3, 3, 3, 3, 3, 3, 3, 3, 3, 3, 3, 3, 3, 3, 3, 3, 3, 3, 3, 3, 3, 3, 3, 3, 3, 3, 3, 3, 3, 3, 3, 3, 3, 3, 3, 3, 3, 3, 3, 3, 3, 3, 3, 3, 3, 3, 3, 3, 3]\n",
            "\n",
            "Gruppi che hanno esattamente 3 reference: 50\n"
          ]
        }
      ],
      "source": [
        "# Verifichiamo le dimensioni a ogni livello\n",
        "# Numero totale di gruppi di reference\n",
        "numero_gruppi = len(references)\n",
        "print(f\"Numero totale di gruppi di reference: {numero_gruppi}\")\n",
        "\n",
        "# Verifichiamo che ogni gruppo abbia 3 reference\n",
        "numero_reference_per_gruppo = [len(gruppo) for gruppo in references]\n",
        "print(\"\\nNumero di reference per ogni gruppo:\")\n",
        "print(numero_reference_per_gruppo)\n",
        "\n",
        "# Verifichiamo quanti gruppi hanno esattamente 3 reference\n",
        "gruppi_con_tre_reference = sum(1 for gruppo in references if len(gruppo) == 3)\n",
        "print(f\"\\nGruppi che hanno esattamente 3 reference: {gruppi_con_tre_reference}\")"
      ]
    },
    {
      "cell_type": "code",
      "execution_count": 54,
      "metadata": {
        "colab": {
          "base_uri": "https://localhost:8080/"
        },
        "id": "GT0yooJ_C0yl",
        "outputId": "2073c7bc-9d2b-421d-f14d-7f70646e4d06"
      },
      "outputs": [
        {
          "name": "stdout",
          "output_type": "stream",
          "text": [
            "Esempio delle prime 3 predictions:\n",
            "1. You saw the socket on the wall.\n",
            "2. You chopped spring onions as the vegetables in the video.\n",
            "3. You saw a carton on the table.\n",
            "\n",
            "Numero totale di predictions: 50\n",
            "['You saw the socket on the wall.', 'You chopped spring onions as the vegetables in the video.', 'You saw a carton on the table.', 'You added a sachet of seasoning to the pot.', 'You put minced meat in a total of five green peppers.', 'You opened a total of five drawers.', 'The first tool that you used on the machine was a drill.', 'Before I picked it up, the genre book was on the shelf.', 'The first object that you hit into the ground was a tent.', 'You added oil to the dough in the mixer.', 'You spread peanut butter on two slices of bread.', 'The sofa in the video appears to be blue.', 'You did wipe the kitchen counter.', 'It appears that you did leave the car door open.', 'You washed the chopping board that was placed on the sink.', 'Before you took it, the plate was placed on the cabinet.', 'Before I picked it up, the egg was kept in the refrigerator.', 'You had a soda to drink.', 'You spoke to a man wearing a striped shirt inside the house.', 'You took a total of two plates from the top shelf.', 'You last saw your wrapper on the table.', 'You washed a pair of socks.', 'Before I picked it up, the transparent keg was resting on the table.', 'You rolled a total of two doughs.', 'The round brush was lying on the floor before it was picked up.', 'L placed some chopsticks in the kitchen drawer.', 'Before I picked it up, the phone was resting on the table.', 'You used a scraper made of plastic.', 'L spread an egg wash on the dough in the video.', 'You wiped a block of wood that was placed on the floor.', 'Before I picked it up, the plier was resting on the drawer.', 'You used a pencil sharpener to sharpen the pencils.', 'You screwed the engine part.', 'L added water to the dough mixer.', 'Before I picked it up, the glass was resting on the table.', 'It appears that you did leave the fridge open.', 'You baked bread in the oven.', 'It appears that you did leave the microwave open.', 'You dropped the stainless steel in the drawer.', 'Your phone is in your hand.', 'You used a hand towel to clean your hands.', 'Before I opened the door, the machine was placed on the floor.', 'You lit a candle in the video.', 'You did slice the okro.', 'The phone can be found resting on the shelf.', 'You poured oil into the frying pan.', 'You kept the ham in the refrigerator.', 'You cut a total of two pieces of tomato.', 'You picked a total of two nuts from the black plastic material.', 'Before I picked it up, the plier was resting on the drawer.']\n"
          ]
        }
      ],
      "source": [
        "import json\n",
        "\n",
        "# Leggiamo il file JSON\n",
        "with open('LongVU_predictions.json', 'r') as file:\n",
        "    # Parserizziamo il contenuto JSON in un oggetto Python\n",
        "    data = json.loads(file.read())\n",
        "\n",
        "# Creiamo la lista delle predictions\n",
        "# Per ogni elemento nel JSON, estraiamo il campo \"prediction\"\n",
        "predictions = []\n",
        "for item in data:\n",
        "    # Estraiamo la prediction e la aggiungiamo alla lista\n",
        "    prediction = item['prediction']\n",
        "    predictions.append(prediction)\n",
        "\n",
        "# A questo punto, predictions sarà una lista di stringhe, dove ogni stringa\n",
        "# è una prediction dal file JSON\n",
        "\n",
        "# Per verificare che la struttura sia corretta, possiamo stampare\n",
        "# le prime predictions come esempio\n",
        "print(\"Esempio delle prime 3 predictions:\")\n",
        "for i, pred in enumerate(predictions[:3], 1):\n",
        "    print(f\"{i}. {pred}\")\n",
        "\n",
        "# Stampiamo anche la lunghezza totale della lista per verifica\n",
        "print(f\"\\nNumero totale di predictions: {len(predictions)}\")\n",
        "\n",
        "print(predictions)"
      ]
    },
    {
      "cell_type": "markdown",
      "metadata": {
        "id": "Xu9PjJU059Qk"
      },
      "source": [
        "# BLEU"
      ]
    },
    {
      "cell_type": "code",
      "execution_count": 55,
      "metadata": {
        "colab": {
          "base_uri": "https://localhost:8080/"
        },
        "id": "NGoqha4LHGzs",
        "outputId": "031ae586-b3b8-4c7b-9d2e-b758f080f8a3"
      },
      "outputs": [
        {
          "name": "stdout",
          "output_type": "stream",
          "text": [
            "All 3 versions results with nltk tokenizer: {'bleu': 0.1091015437297222, 'precisions': [0.35892514395393477, 0.18683651804670912, 0.07838479809976247, 0.026954177897574125], 'brevity_penalty': 1.0, 'length_ratio': 1.6806451612903226, 'translation_length': 521, 'reference_length': 310}\n",
            "All 3 versions results with default tokenizer: {'bleu': 0.0786332523025659, 'precisions': [0.30518234165067176, 0.13588110403397027, 0.04275534441805225, 0.0215633423180593], 'brevity_penalty': 1.0, 'length_ratio': 2.0193798449612403, 'translation_length': 521, 'reference_length': 258}\n",
            "1st version with nltk tokenizer: {'bleu': 0.1088086510373205, 'precisions': [0.3550863723608445, 0.18683651804670912, 0.07838479809976247, 0.026954177897574125], 'brevity_penalty': 1.0, 'length_ratio': 1.3567708333333333, 'translation_length': 521, 'reference_length': 384}\n",
            "1st version with default tokenizer: {'bleu': 0.1088086510373205, 'precisions': [0.3550863723608445, 0.18683651804670912, 0.07838479809976247, 0.026954177897574125], 'brevity_penalty': 1.0, 'length_ratio': 1.3567708333333333, 'translation_length': 521, 'reference_length': 384}\n",
            "2nd version with nltk tokenizer: {'bleu': 0.13207320917126336, 'precisions': [0.4165067178502879, 0.22505307855626328, 0.09263657957244656, 0.03504043126684636], 'brevity_penalty': 1.0, 'length_ratio': 1.3567708333333333, 'translation_length': 521, 'reference_length': 384}\n",
            "2nd version with default tokenizer: {'bleu': 0.13207320917126336, 'precisions': [0.4165067178502879, 0.22505307855626328, 0.09263657957244656, 0.03504043126684636], 'brevity_penalty': 1.0, 'length_ratio': 1.3567708333333333, 'translation_length': 521, 'reference_length': 384}\n",
            "3rd version with nltk tokenizer: {'bleu': 0.0, 'precisions': [0.12476007677543186, 0.044585987261146494, 0.007125890736342043, 0.0], 'brevity_penalty': 1.0, 'length_ratio': 3.2974683544303796, 'translation_length': 521, 'reference_length': 158}\n",
            "3rd version with default tokenizer: {'bleu': 0.0, 'precisions': [0.12476007677543186, 0.044585987261146494, 0.007125890736342043, 0.0], 'brevity_penalty': 1.0, 'length_ratio': 3.2974683544303796, 'translation_length': 521, 'reference_length': 158}\n"
          ]
        }
      ],
      "source": [
        "bleu = evaluate.load(\"bleu\")\n",
        "# On all 3 versions of the ground truths\n",
        "results_nltk = bleu.compute(predictions=predictions, references=references, tokenizer=word_tokenize)\n",
        "print(f\"All 3 versions results with nltk tokenizer: {results_nltk}\")\n",
        "\n",
        "results = bleu.compute(predictions=predictions, references=references)\n",
        "print(f\"All 3 versions results with default tokenizer: {results}\")\n",
        "\n",
        "# Only first version\n",
        "results_nltk = bleu.compute(predictions=predictions, references=first_version, tokenizer=word_tokenize)\n",
        "print(f\"1st version with nltk tokenizer: {results_nltk}\")\n",
        "\n",
        "results = bleu.compute(predictions=predictions, references=first_version)\n",
        "print(f\"1st version with default tokenizer: {results}\")\n",
        "\n",
        "# Only second version\n",
        "results_nltk = bleu.compute(predictions=predictions, references=second_version, tokenizer=word_tokenize)\n",
        "print(f\"2nd version with nltk tokenizer: {results_nltk}\")\n",
        "\n",
        "results = bleu.compute(predictions=predictions, references=second_version)\n",
        "print(f\"2nd version with default tokenizer: {results}\")\n",
        "\n",
        "# Only third version\n",
        "results_nltk = bleu.compute(predictions=predictions, references=third_version, tokenizer=word_tokenize)\n",
        "print(f\"3rd version with nltk tokenizer: {results_nltk}\")\n",
        "\n",
        "results = bleu.compute(predictions=predictions, references=third_version)\n",
        "print(f\"3rd version with default tokenizer: {results}\")"
      ]
    },
    {
      "cell_type": "markdown",
      "metadata": {
        "id": "3gIzy66Z7HS1"
      },
      "source": [
        "# ROUGE"
      ]
    },
    {
      "cell_type": "code",
      "execution_count": 56,
      "metadata": {
        "colab": {
          "base_uri": "https://localhost:8080/"
        },
        "id": "rVOdL5wl7NvU",
        "outputId": "4bfb11ff-b02a-444f-ddc1-0645dd70aa9f"
      },
      "outputs": [
        {
          "name": "stdout",
          "output_type": "stream",
          "text": [
            "All 3 versions results with nltk tokenizer: {'rouge1': 0.34215760013008645, 'rouge2': 0.1735231361584976, 'rougeL': 0.320302858024503, 'rougeLsum': 0.31965724773822773}\n",
            "All 3 versions results with default tokenizer: {'rouge1': 0.5373922434746571, 'rouge2': 0.2985051668317923, 'rougeL': 0.5096856600795894, 'rougeLsum': 0.508220382386791}\n",
            "1st version with nltk tokenizer: {'rouge1': 0.3935362978259531, 'rouge2': 0.2034134440476142, 'rougeL': 0.3684354221831472, 'rougeLsum': 0.36745269854657375}\n",
            "1st version with default tokenizer: {'rouge1': 0.44108238025864865, 'rouge2': 0.2449081012726524, 'rougeL': 0.41716375757548857, 'rougeLsum': 0.4166496593175151}\n",
            "2nd version with nltk tokenizer: {'rouge1': 0.47298329806775086, 'rouge2': 0.254158756866591, 'rougeL': 0.44730131552986563, 'rougeLsum': 0.44547697424096666}\n",
            "2nd version with default tokenizer: {'rouge1': 0.5373922434746571, 'rouge2': 0.2985051668317923, 'rougeL': 0.5096856600795894, 'rougeLsum': 0.508220382386791}\n",
            "3rd version with nltk tokenizer: {'rouge1': 0.17089018618120788, 'rouge2': 0.05555263157894737, 'rougeL': 0.15640139066300057, 'rougeLsum': 0.1553874948580831}\n",
            "3rd version with default tokenizer: {'rouge1': 0.1860897380912861, 'rouge2': 0.06100611806494159, 'rougeL': 0.1702587678918948, 'rougeLsum': 0.16946993598077187}\n"
          ]
        }
      ],
      "source": [
        "rouge = evaluate.load('rouge')\n",
        "# On all 3 versions of the ground truths\n",
        "results_nltk = rouge.compute(predictions=predictions, references=references, tokenizer=word_tokenize)\n",
        "print(f\"All 3 versions results with nltk tokenizer: {results_nltk}\")\n",
        "\n",
        "results = rouge.compute(predictions=predictions, references=references)\n",
        "print(f\"All 3 versions results with default tokenizer: {results}\")\n",
        "\n",
        "# Only first version\n",
        "results_nltk = rouge.compute(predictions=predictions, references=first_version, tokenizer=word_tokenize)\n",
        "print(f\"1st version with nltk tokenizer: {results_nltk}\")\n",
        "\n",
        "results = rouge.compute(predictions=predictions, references=first_version)\n",
        "print(f\"1st version with default tokenizer: {results}\")\n",
        "\n",
        "# Only second version\n",
        "results_nltk = rouge.compute(predictions=predictions, references=second_version, tokenizer=word_tokenize)\n",
        "print(f\"2nd version with nltk tokenizer: {results_nltk}\")\n",
        "\n",
        "results = rouge.compute(predictions=predictions, references=second_version)\n",
        "print(f\"2nd version with default tokenizer: {results}\")\n",
        "\n",
        "# Only third version\n",
        "results_nltk = rouge.compute(predictions=predictions, references=third_version, tokenizer=word_tokenize)\n",
        "print(f\"3rd version with nltk tokenizer: {results_nltk}\")\n",
        "\n",
        "results = rouge.compute(predictions=predictions, references=third_version)\n",
        "print(f\"3rd version with default tokenizer: {results}\")"
      ]
    },
    {
      "cell_type": "markdown",
      "metadata": {
        "id": "-V81WtIh7KAD"
      },
      "source": [
        "# METEOR"
      ]
    },
    {
      "cell_type": "code",
      "execution_count": 57,
      "metadata": {
        "colab": {
          "base_uri": "https://localhost:8080/"
        },
        "id": "COL2NXkF8Xn7",
        "outputId": "521470e9-9914-4f2d-da7e-462e2e860c49"
      },
      "outputs": [
        {
          "name": "stderr",
          "output_type": "stream",
          "text": [
            "[nltk_data] Downloading package wordnet to /root/nltk_data...\n",
            "[nltk_data]   Package wordnet is already up-to-date!\n",
            "[nltk_data] Downloading package punkt_tab to /root/nltk_data...\n",
            "[nltk_data]   Package punkt_tab is already up-to-date!\n",
            "[nltk_data] Downloading package omw-1.4 to /root/nltk_data...\n",
            "[nltk_data]   Package omw-1.4 is already up-to-date!\n"
          ]
        },
        {
          "name": "stdout",
          "output_type": "stream",
          "text": [
            "All 3 versions results: {'meteor': 0.31492430032446866}\n",
            "1st version: {'meteor': 0.42624108846913894}\n",
            "2nd version: {'meteor': 0.537726312518075}\n",
            "3rd version: {'meteor': 0.2222870905478511}\n"
          ]
        }
      ],
      "source": [
        "# METEOR is using by default NLTK Tokenizer\n",
        "meteor = evaluate.load('meteor')\n",
        "\n",
        "# On all 3 versions of the ground truths\n",
        "results = meteor.compute(predictions=predictions, references=references)\n",
        "print(f\"All 3 versions results: {results}\")\n",
        "\n",
        "# Only first version\n",
        "results = meteor.compute(predictions=predictions, references=first_version)\n",
        "print(f\"1st version: {results}\")\n",
        "\n",
        "# Only second version\n",
        "results = meteor.compute(predictions=predictions, references=second_version)\n",
        "print(f\"2nd version: {results}\")\n",
        "\n",
        "# Only third version\n",
        "results = meteor.compute(predictions=predictions, references=third_version)\n",
        "print(f\"3rd version: {results}\")"
      ]
    }
  ],
  "metadata": {
    "colab": {
      "provenance": []
    },
    "kernelspec": {
      "display_name": "Python 3",
      "name": "python3"
    },
    "language_info": {
      "name": "python"
    }
  },
  "nbformat": 4,
  "nbformat_minor": 0
}
