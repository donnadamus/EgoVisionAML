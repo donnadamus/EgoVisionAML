{
  "cells": [
    {
      "cell_type": "markdown",
      "metadata": {
        "id": "ADyxkMCMRpy_"
      },
      "source": [
        "# Extraction of clip of interest from original Ego4D videos based on Top 50 queries and ground truth"
      ]
    },
    {
      "cell_type": "markdown",
      "metadata": {
        "id": "699GazDARpzC"
      },
      "source": [
        "### **Setup AWS Environment**\n",
        "\n",
        "This section sets up the environment variables and installs the AWS CLI required for interacting with the Ego4D dataset hosted on Amazon S3.\n",
        "\n",
        "1. **Environment Variables:**\n",
        "   - The `AWS_ACCESS_KEY_ID` and `AWS_SECRET_ACCESS_KEY` are set as environment variables to authenticate access to the S3 bucket containing the Ego4D dataset.\n",
        "\n",
        "2. **Install AWS CLI:**\n",
        "   - The latest version of the AWS CLI is downloaded and installed to enable direct interaction with Amazon S3.\n",
        "   - After installation, the AWS CLI is configured with the credentials provided via the `aws configure` command.\n",
        "\n",
        "3. **Clean Up:**\n",
        "   - The temporary ZIP file used for downloading the AWS CLI (`awscliv2.zip`) is removed to keep the environment clean."
      ]
    },
    {
      "cell_type": "code",
      "execution_count": 1,
      "metadata": {
        "id": "LG7QIwlQR8Go"
      },
      "outputs": [],
      "source": [
        "import os\n",
        "os.environ['AWS_ACCESS_KEY_ID'] = \"< insert secret key here >\"\n",
        "os.environ['AWS_SECRET_ACCESS_KEY'] = \"< insert secret key here >\""
      ]
    },
    {
      "cell_type": "code",
      "execution_count": null,
      "metadata": {
        "colab": {
          "base_uri": "https://localhost:8080/"
        },
        "collapsed": true,
        "id": "aiB9WYylYvH6",
        "outputId": "abec3506-01c8-47ee-aeb5-d7ad3c4b0470"
      },
      "outputs": [],
      "source": [
        "# Download the AWS and Ego4D CLIs\n",
        "%%bash\n",
        "\n",
        "# Set up the AWS CLI\n",
        "curl \"https://awscli.amazonaws.com/awscli-exe-linux-x86_64.zip\" -o \"awscliv2.zip\"\n",
        "unzip -o awscliv2.zip >/dev/null\n",
        "sudo ./aws/install >/dev/null 2>&1\n",
        "aws configure set aws_access_key_id \"$AWS_ACCESS_KEY_ID\" && aws configure set aws_secret_access_key \"$AWS_SECRET_ACCESS_KEY\"\n",
        "rm \"awscliv2.zip\""
      ]
    },
    {
      "cell_type": "markdown",
      "metadata": {
        "id": "yEto7e8ERpzE"
      },
      "source": [
        "### **Download Manifest File**\n",
        "\n",
        "This command downloads the `manifest.csv` file from the Ego4D dataset hosted on Amazon S3.\n",
        "\n",
        "1. **Purpose:**\n",
        "   - The `manifest.csv` file contains metadata that maps `video_uid` to their respective S3 paths. This is essential for locating and downloading specific videos or other dataset components.\n",
        "\n",
        "2. **Command Breakdown:**\n",
        "   - `aws s3 cp`: Copies a file from the specified S3 bucket to the local machine.\n",
        "   - `s3://ego4d-consortium-sharing/public/v1/full_scale/manifest.csv`: Path to the `manifest.csv` file in the Ego4D S3 bucket.\n",
        "   - `/content/manifest.csv`: Destination path where the `manifest.csv` file is saved in the Colab environment.\n",
        "\n",
        "3. **Output:**\n",
        "   - Upon successful execution, the `manifest.csv` file is saved in the `/content` directory for further use."
      ]
    },
    {
      "cell_type": "code",
      "execution_count": null,
      "metadata": {
        "colab": {
          "base_uri": "https://localhost:8080/"
        },
        "id": "pONfNIC2i-YV",
        "outputId": "b73c264b-018b-43a3-e66d-bb2ddbf1d7be"
      },
      "outputs": [],
      "source": [
        "!aws s3 cp s3://ego4d-consortium-sharing/public/v1/full_scale/manifest.csv /content/manifest.csv"
      ]
    },
    {
      "cell_type": "code",
      "execution_count": null,
      "metadata": {
        "colab": {
          "base_uri": "https://localhost:8080/"
        },
        "id": "PFUDPHoQlhcI",
        "outputId": "1fdbb536-3af7-415e-c3e5-0db9bf5eef46"
      },
      "outputs": [],
      "source": [
        "# Install required tools\n",
        "!sudo apt update && sudo apt install -y ffmpeg\n",
        "!pip install boto3\n",
        "!pip install av\n",
        "\n",
        "# Import required libraries\n",
        "import os\n",
        "import json\n",
        "import av\n",
        "\n",
        "# Set paths\n",
        "top_queries_file = \"/content/top_queries.json\"  # Path to your top_queries.json file\n",
        "manifest_path = \"/content/manifest.csv\"  # Path to the downloaded manifest.csv\n",
        "output_dir = \"/content/extracted_clips\"  # Directory to save extracted clips\n",
        "os.makedirs(output_dir, exist_ok=True)"
      ]
    },
    {
      "cell_type": "markdown",
      "metadata": {
        "id": "944_m4NtRpzF"
      },
      "source": [
        "### **Process Top Queries and Extract Relevant Clips**\n",
        "\n",
        "This section processes the `top_queries.json` file to download and extract the relevant video clips based on the ground truth time intervals.\n",
        "\n",
        "#### **1. Load Top Queries**\n",
        "- The `top_queries.json` file is loaded into memory.\n",
        "- Each query contains metadata such as `video_id`, `ground_truth` (start and end times), and additional attributes.\n",
        "\n",
        "#### **2. Create Mapping of `video_id` to S3 Path**\n",
        "- The `manifest.csv` file is parsed to create a dictionary (`video_mapping`) that maps `video_id` to the corresponding S3 path.\n",
        "- Each line in the `manifest.csv` contains:\n",
        "  - Column 1: `video_id`\n",
        "  - Column 2: S3 path to the video file.\n",
        "\n",
        "#### **3. Download and Extract Clips**\n",
        "- For each query in `top_queries`:\n",
        "  - Retrieve the `video_id` and ground truth time intervals (`start_time` and `end_time`).\n",
        "  - If the `video_id` is not found in `video_mapping`, skip the query with a warning message.\n",
        "  - Download the full video using the S3 path and save it locally.\n",
        "\n",
        "#### **4. Extract Relevant Clip**\n",
        "- Use **FFmpeg** to extract the specified segment from the downloaded video.\n",
        "- The extracted clip is saved with a filename format that includes:\n",
        "  - `video_id`\n",
        "  - `start_time`\n",
        "  - `end_time`\n",
        "\n",
        "#### **5. Clean Up**\n",
        "- After extracting the clip, the full video file is deleted to save storage space in the Colab environment.\n",
        "\n",
        "#### **6. Final Output**\n",
        "- All extracted clips are saved in the `output_dir` directory.\n",
        "- A summary message is printed to indicate the completion of the process."
      ]
    },
    {
      "cell_type": "code",
      "execution_count": 5,
      "metadata": {
        "id": "Y7S4AdCDllug"
      },
      "outputs": [],
      "source": [
        "# Load top queries\n",
        "with open(top_queries_file, 'r') as f:\n",
        "    top_queries = json.load(f)\n",
        "\n",
        "# Step 1: Create a mapping of video_id to S3 path\n",
        "video_mapping = {}\n",
        "with open(manifest_path, 'r') as f:\n",
        "    for line in f:\n",
        "        parts = line.strip().split(',')\n",
        "        if len(parts) >= 2:\n",
        "            video_id = parts[0]\n",
        "            s3_path = parts[1]\n",
        "            video_mapping[video_id] = s3_path"
      ]
    },
    {
      "cell_type": "code",
      "execution_count": null,
      "metadata": {
        "colab": {
          "base_uri": "https://localhost:8080/"
        },
        "id": "hRQQeSMKKgDN",
        "outputId": "121c3785-48a1-4ee9-96eb-d1991fcda7f0"
      },
      "outputs": [],
      "source": [
        "def calculate_actual_duration(clip_path):\n",
        "    try:\n",
        "        ffmpeg_command = f\"ffprobe -i {clip_path} -show_entries format=duration -v quiet -of csv=p=0\"\n",
        "        duration = float(os.popen(ffmpeg_command).read().strip())\n",
        "        return duration\n",
        "    except Exception as e:\n",
        "        print(f\"Error calculating duration for {clip_path}: {e}\")\n",
        "        return None\n",
        "\n",
        "# Step 2: Download and extract clips\n",
        "# Enhanced Script for Downloading and Verifying Clips\n",
        "for query in top_queries:\n",
        "    video_id = query[\"video_id\"]\n",
        "    ground_truth = query[\"ground_truth\"]\n",
        "    start_time, end_time = ground_truth\n",
        "\n",
        "    if video_id not in video_mapping:\n",
        "        print(f\"Video ID {video_id} not found in manifest.\")\n",
        "        continue\n",
        "\n",
        "    # Download the full video\n",
        "    s3_video_path = video_mapping[video_id]\n",
        "    video_file = f\"/content/{video_id}.mp4\"\n",
        "    download_command = f\"aws s3 cp {s3_video_path} {video_file}\"\n",
        "    print(f\"Downloading video: {video_file}\")\n",
        "    os.system(download_command)\n",
        "\n",
        "    if not os.path.exists(video_file):\n",
        "        print(f\"Failed to download video: {video_file}\")\n",
        "        continue\n",
        "    ##\n",
        "    original_video = calculate_actual_duration(video_file)\n",
        "    print(f\"Original video length --> {original_video}\")\n",
        "    ##\n",
        "    # Extract the relevant clip using FFmpeg\n",
        "    clip_output_path = os.path.join(output_dir, f\"{video_id}__{start_time}__{end_time}.mp4\")\n",
        "    #     the following command is faster but gave us problems with two clips\n",
        "    #     ffmpeg_command = f\"ffmpeg -i {video_file} -ss {start_time} -to {end_time} -c copy {clip_output_path}\"\n",
        "    ffmpeg_command = f\"ffmpeg -i {video_file} -ss {start_time} -to {end_time} -c:v libx264 -preset fast -crf 23 -c:a aac {clip_output_path}\"\n",
        "    print(f\"Extracting clip: {clip_output_path}\")\n",
        "    os.system(ffmpeg_command)\n",
        "\n",
        "    if not os.path.exists(clip_output_path):\n",
        "        print(f\"Failed to extract clip: {clip_output_path}\")\n",
        "        continue\n",
        "\n",
        "    # Verify clip duration\n",
        "    actual_duration = calculate_actual_duration(clip_output_path)\n",
        "    expected_duration = end_time - start_time\n",
        "    if actual_duration is None:\n",
        "        print(f\"Duration could not be calculated for: {clip_output_path}\")\n",
        "        os.remove(clip_output_path)\n",
        "    elif abs(actual_duration - expected_duration) > 0.1:  # Allow small tolerance\n",
        "        print(f\"Clip duration mismatch: Expected {expected_duration}s, Got {actual_duration}s\")\n",
        "        os.remove(clip_output_path)\n",
        "    else:\n",
        "        print(f\"Successfully extracted clip: {clip_output_path}\")\n",
        "\n",
        "    # Optional: Remove the full video to save space\n",
        "    if os.path.exists(video_file):\n",
        "        os.remove(video_file)"
      ]
    },
    {
      "cell_type": "markdown",
      "metadata": {
        "id": "zVJgMeqoRpzG"
      },
      "source": [
        "### Zip the directory and download"
      ]
    },
    {
      "cell_type": "code",
      "execution_count": null,
      "metadata": {
        "colab": {
          "base_uri": "https://localhost:8080/"
        },
        "id": "RyMSelP1yafT",
        "outputId": "f2db2662-c71c-4c34-d8f8-54153f26b2ec"
      },
      "outputs": [],
      "source": [
        "!zip -r /content/extracted_clips.zip /content/extracted_clips"
      ]
    }
  ],
  "metadata": {
    "colab": {
      "machine_shape": "hm",
      "provenance": []
    },
    "kernelspec": {
      "display_name": "Python 3",
      "name": "python3"
    },
    "language_info": {
      "name": "python"
    }
  },
  "nbformat": 4,
  "nbformat_minor": 0
}
