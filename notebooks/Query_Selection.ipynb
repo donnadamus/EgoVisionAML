{
 "cells": [
  {
   "cell_type": "markdown",
   "metadata": {},
   "source": [
    "# Selection of 50 NLQ queries\n",
    " • Model Used : VSLNet (Non-Shared version)"
   ]
  },
  {
   "cell_type": "markdown",
   "metadata": {},
   "source": [
    "### Mapping Predictions to their Video_Uid\n",
    "The following blocks ares used to map each predictions to the relative video uid. Somehow, the output of the VSLNet model do not include this information."
   ]
  },
  {
   "cell_type": "code",
   "execution_count": 5,
   "metadata": {},
   "outputs": [],
   "source": [
    "import json\n",
    "import os\n",
    "\n",
    "# Define paths to data directory and files\n",
    "annotations_dir = \"data/ego4d_data\"\n",
    "predictions_dir = \"data/prediction_VSLNet_Non_Shared\"\n",
    "\n",
    "annotations_file = os.path.join(annotations_dir, \"v1\", \"annotations/nlq_val.json\")\n",
    "predictions_file = os.path.join(predictions_dir, \"predictions.json\")\n",
    "updated_predictions_file = os.path.join(predictions_dir, \"predictions_with_video_id.json\")\n"
   ]
  },
  {
   "cell_type": "code",
   "execution_count": 6,
   "metadata": {},
   "outputs": [
    {
     "name": "stdout",
     "output_type": "stream",
     "text": [
      "Predictions updated and saved to data/prediction_VSLNet_Non_Shared/predictions_with_video_id.json\n"
     ]
    }
   ],
   "source": [
    "# Step 1: Create a mapping from clip_uid to video_id\n",
    "def create_clip_to_video_mapping(annotations_path):\n",
    "    with open(annotations_path, 'r') as f:\n",
    "        annotations = json.load(f)\n",
    "    \n",
    "    clip_to_video = {}\n",
    "    for video in annotations[\"videos\"]:\n",
    "        video_id = video[\"video_uid\"]  # Extract video_id\n",
    "        for clip in video[\"clips\"]:\n",
    "            clip_id = clip[\"clip_uid\"]  # Extract clip_id\n",
    "            clip_to_video[clip_id] = video_id  # Map clip_id to video_id\n",
    "    \n",
    "    return clip_to_video\n",
    "\n",
    "# Step 2: Update predictions with video_id\n",
    "def add_video_id_to_predictions(predictions_path, clip_to_video_mapping, output_path):\n",
    "    with open(predictions_path, 'r') as f:\n",
    "        predictions = json.load(f)\n",
    "    \n",
    "    for result in predictions[\"results\"]:\n",
    "        clip_id = result[\"clip_uid\"]\n",
    "        result[\"video_id\"] = clip_to_video_mapping.get(clip_id, \"unknown\")  # Add video_id\n",
    "    \n",
    "    # Save updated predictions\n",
    "    with open(output_path, 'w') as f:\n",
    "        json.dump(predictions, f, indent=4)\n",
    "\n",
    "clip_to_video = create_clip_to_video_mapping(annotations_file)\n",
    "# Update predictions\n",
    "add_video_id_to_predictions(predictions_file, clip_to_video, updated_predictions_file)    \n",
    "print(f\"Predictions updated and saved to {updated_predictions_file}\")\n"
   ]
  }
 ],
 "metadata": {
  "kernelspec": {
   "display_name": "Python 3 (ipykernel)",
   "language": "python",
   "name": "python3"
  },
  "language_info": {
   "codemirror_mode": {
    "name": "ipython",
    "version": 3
   },
   "file_extension": ".py",
   "mimetype": "text/x-python",
   "name": "python",
   "nbconvert_exporter": "python",
   "pygments_lexer": "ipython3",
   "version": "3.11.10"
  }
 },
 "nbformat": 4,
 "nbformat_minor": 2
}
